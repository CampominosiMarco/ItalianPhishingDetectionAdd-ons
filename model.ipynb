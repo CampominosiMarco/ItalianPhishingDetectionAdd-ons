{
 "cells": [
  {
   "cell_type": "code",
   "execution_count": 1,
   "id": "24118d27-ce1b-4e7e-90f8-263d38e9cc01",
   "metadata": {},
   "outputs": [
    {
     "name": "stdout",
     "output_type": "stream",
     "text": [
      "WARNING: No GPU, all there is is:\n",
      "- PhysicalDevice(name='/physical_device:CPU:0', device_type='CPU')\n"
     ]
    }
   ],
   "source": [
    "import tensorflow.keras as k\n",
    "from sklearn.feature_extraction.text import CountVectorizer\n",
    "from sklearn.model_selection import train_test_split\n",
    "\n",
    "\n",
    "import pandas as pd\n",
    "import tensorflow as tf\n",
    "import tensorflow.keras as k\n",
    "import numpy as np\n",
    "\n",
    "from sklearn.metrics import roc_curve, auc, precision_recall_fscore_support, accuracy_score\n",
    "from matplotlib import pyplot as plt\n",
    "\n",
    "pd.set_option('display.max_columns', None)  # show all columns\n",
    "GPUs = tf.config.list_physical_devices('GPU')\n",
    "if GPUs is None or len(GPUs) == 0:\n",
    "    print(\"WARNING: No GPU, all there is is:\")\n",
    "    for device in tf.config.list_physical_devices():\n",
    "        print(f'- {device}')\n",
    "else:\n",
    "    for gpu in GPUs:\n",
    "        tf.config.experimental.set_memory_growth(gpu, True)\n",
    "        print(\"Initialized\", gpu)"
   ]
  },
  {
   "cell_type": "code",
   "execution_count": 2,
   "id": "81c32cdb-83cb-412e-9982-6c38dde6cb47",
   "metadata": {},
   "outputs": [],
   "source": [
    "def create_char_vectorizer(training_corpus):\n",
    "    to_characters = k.preprocessing.text.Tokenizer(char_level=True, oov_token='<OOV>', filters='\\t\\n')\n",
    "    to_characters.fit_on_texts(training_corpus)\n",
    "\n",
    "    return to_characters\n",
    "\n",
    "\n",
    "def create_word_vectorizer(training_corpus):\n",
    "    word_vectorizer = CountVectorizer(\n",
    "        stop_words=None,\n",
    "        min_df=5,\n",
    "        token_pattern=r'&\\w+;|[:/&?=.\\[\\]\\\\]|%\\w{2}|[-_\\w\\d]+',\n",
    "        analyzer='word',\n",
    "        max_features=500\n",
    "    )\n",
    "    word_vectorizer.fit(training_corpus)\n",
    "\n",
    "    return word_vectorizer\n",
    "\n",
    "def load_data(split_ratio=None, random_state=42):\n",
    "    data = pd.read_csv(\"originalDataSet.csv\")    #all_ita_final.csv\n",
    "    data = data.sample(frac=1, random_state=42).reset_index(drop=True)  # shuffle\n",
    "    if split_ratio is None:\n",
    "        data_train = data_validation = None\n",
    "    else:\n",
    "        data_train, data_validation = train_test_split(\n",
    "            data,\n",
    "            test_size=split_ratio,\n",
    "            stratify=data['Label'],\n",
    "            shuffle=True,\n",
    "            random_state=42\n",
    "        )\n",
    "\n",
    "    return data_train, data_validation, data\n",
    "\n",
    "data_train, data_validation, data = load_data(split_ratio=0.3, random_state=42)"
   ]
  },
  {
   "cell_type": "code",
   "execution_count": 22,
   "id": "0b58012e",
   "metadata": {},
   "outputs": [
    {
     "name": "stdout",
     "output_type": "stream",
     "text": [
      "Char vocab size: 49\n",
      "Word vocab size: 119\n"
     ]
    }
   ],
   "source": [
    "word_vectorizer = create_word_vectorizer(data_train['Domain'])\n",
    "char_vectorizer = create_char_vectorizer(data_train['Domain'])\n",
    "LC = len(char_vectorizer.word_counts)\n",
    "LW = len(word_vectorizer.vocabulary_)\n",
    "\n",
    "print('Char vocab size:', LC)\n",
    "print('Word vocab size:', LW)"
   ]
  },
  {
   "cell_type": "code",
   "execution_count": 12,
   "id": "1a9f9f28",
   "metadata": {},
   "outputs": [],
   "source": [
    "#This part is added to export data_train['Domain'] for prediction\n",
    "from numpy import savetxt\n",
    "savetxt('dataForVector.csv', data_train['Domain'], delimiter=',', fmt=\"%s\")"
   ]
  },
  {
   "cell_type": "code",
   "execution_count": 4,
   "id": "453b2876",
   "metadata": {},
   "outputs": [],
   "source": [
    "def postpad_to(sequence, to):\n",
    "    return k.preprocessing.sequence.pad_sequences(sequence, to, padding='post', truncating='post')\n",
    "\n",
    "def map_text(X):\n",
    "    if X[-1] == '/':\n",
    "        X = X[:-1]\n",
    "    return X\n",
    "\n",
    "def create_dataset_generator(word_vectorizer, char_vectorizer, data: pd.DataFrame, one_hot=False, vec_length=200):\n",
    "    assert word_vectorizer is not None or char_vectorizer is not None\n",
    "\n",
    "    if word_vectorizer is not None:\n",
    "        word_tokenizer = word_vectorizer.build_tokenizer()\n",
    "\n",
    "    def gen():\n",
    "        for row in data.iterrows():\n",
    "            out_dict = dict()\n",
    "\n",
    "            url = row[1].Domain\n",
    "            _type = row[1].Label\n",
    "            if one_hot:\n",
    "                target = tf.squeeze(tf.one_hot([_type], depth=2))\n",
    "            else:\n",
    "                target = tf.squeeze(_type)\n",
    "\n",
    "            if word_vectorizer is not None:\n",
    "                wv = tf.constant(postpad_to(\n",
    "                    [[word_vectorizer.vocabulary_.get(a, -1) + 2 for a in word_tokenizer(url)]]  # 0 = padding, 1 = OOV\n",
    "                    , vec_length), name='word')\n",
    "                out_dict['word'] = tf.squeeze(wv)\n",
    "\n",
    "            if char_vectorizer is not None:\n",
    "                cv = tf.constant(postpad_to(char_vectorizer.texts_to_sequences([url]), vec_length), name='char')\n",
    "                out_dict['char'] = tf.squeeze(cv)\n",
    "\n",
    "            yield out_dict, target\n",
    "\n",
    "    output_types, output_shapes = dict(), dict()\n",
    "    if word_vectorizer is not None:\n",
    "        output_types['word'] = tf.float64\n",
    "        output_shapes['word'] = tf.TensorShape([vec_length])\n",
    "    if char_vectorizer is not None:\n",
    "        output_types['char'] = tf.float64\n",
    "        output_shapes['char'] = tf.TensorShape([vec_length])\n",
    "\n",
    "    ds = tf.data.Dataset.from_generator(\n",
    "        gen,\n",
    "        output_types=(output_types, tf.int32),\n",
    "        output_shapes=(output_shapes, tf.TensorShape([] if not one_hot else [2]))\n",
    "    )\n",
    "\n",
    "    return ds"
   ]
  },
  {
   "cell_type": "code",
   "execution_count": 5,
   "id": "d51b7307",
   "metadata": {},
   "outputs": [
    {
     "name": "stdout",
     "output_type": "stream",
     "text": [
      "Train: ({'word': TensorSpec(shape=(200,), dtype=tf.float64, name=None), 'char': TensorSpec(shape=(200,), dtype=tf.float64, name=None)}, TensorSpec(shape=(), dtype=tf.int32, name=None)) \n",
      "Valid: ({'word': TensorSpec(shape=(200,), dtype=tf.float64, name=None), 'char': TensorSpec(shape=(200,), dtype=tf.float64, name=None)}, TensorSpec(shape=(), dtype=tf.int32, name=None))\n"
     ]
    }
   ],
   "source": [
    "dataset_train = create_dataset_generator(word_vectorizer, char_vectorizer, data_train)\\\n",
    "    .shuffle(10000)\\\n",
    "    .prefetch(10000) #.batch(15*1024)\n",
    "dataset_validation = create_dataset_generator(word_vectorizer, char_vectorizer, data_validation)\\\n",
    "    .shuffle(10000)\\\n",
    "    .prefetch(10000) #.batch(15*1024)\n",
    "\n",
    "print('Train:', dataset_train.element_spec, '\\nValid:', dataset_validation.element_spec)"
   ]
  },
  {
   "cell_type": "code",
   "execution_count": 6,
   "id": "66c9bf1e",
   "metadata": {},
   "outputs": [
    {
     "name": "stdout",
     "output_type": "stream",
     "text": [
      "Model: \"model\"\n",
      "__________________________________________________________________________________________________\n",
      " Layer (type)                   Output Shape         Param #     Connected to                     \n",
      "==================================================================================================\n",
      " word (InputLayer)              [(None, 200)]        0           []                               \n",
      "                                                                                                  \n",
      " char (InputLayer)              [(None, 200)]        0           []                               \n",
      "                                                                                                  \n",
      " embedding (Embedding)          (None, 200, 16)      1936        ['word[0][0]']                   \n",
      "                                                                                                  \n",
      " embedding_1 (Embedding)        (None, 200, 16)      816         ['char[0][0]']                   \n",
      "                                                                                                  \n",
      " gru (GRU)                      (None, 200, 10)      840         ['embedding[0][0]']              \n",
      "                                                                                                  \n",
      " gru_1 (GRU)                    (None, 200, 10)      840         ['embedding_1[0][0]']            \n",
      "                                                                                                  \n",
      " concatenate (Concatenate)      (None, 200, 20)      0           ['gru[0][0]',                    \n",
      "                                                                  'gru_1[0][0]']                  \n",
      "                                                                                                  \n",
      " flatten (Flatten)              (None, 4000)         0           ['concatenate[0][0]']            \n",
      "                                                                                                  \n",
      " dropout (Dropout)              (None, 4000)         0           ['flatten[0][0]']                \n",
      "                                                                                                  \n",
      " dense_1 (Dense)                (None, 512)          2048512     ['dropout[0][0]']                \n",
      "                                                                                                  \n",
      " dense_2 (Dense)                (None, 256)          131328      ['dense_1[0][0]']                \n",
      "                                                                                                  \n",
      " dense_comb_out (Dense)         (None, 1)            257         ['dense_2[0][0]']                \n",
      "                                                                                                  \n",
      "==================================================================================================\n",
      "Total params: 2,184,529\n",
      "Trainable params: 2,184,529\n",
      "Non-trainable params: 0\n",
      "__________________________________________________________________________________________________\n"
     ]
    },
    {
     "data": {
      "image/png": "[encoded data removed]",
      "text/plain": [
       "<IPython.core.display.Image object>"
      ]
     },
     "execution_count": 6,
     "metadata": {},
     "output_type": "execute_result"
    }
   ],
   "source": [
    "def create_url_net(input_length, emb_dim, gru_cells):\n",
    "    word_input = k.layers.Input(shape=[input_length], name='word')\n",
    "    char_input = k.layers.Input(shape=[input_length], name='char')\n",
    "\n",
    "    x = k.layers.concatenate([\n",
    "        k.layers.GRU(gru_cells, return_sequences=True)(k.layers.Embedding(2+LW, emb_dim, mask_zero=True)(word_input)),\n",
    "        k.layers.GRU(gru_cells, return_sequences=True)(k.layers.Embedding(2+LC, emb_dim, mask_zero=True)(char_input)),\n",
    "    ])\n",
    "    x = k.layers.Flatten()(x)\n",
    "    x = k.layers.Dropout(0.5, name=f'dropout')(x)\n",
    "    x = k.layers.Dense(512, name=f'dense_1', activation='relu')(x)\n",
    "    x = k.layers.Dense(256, name=f'dense_2', activation='relu')(x)\n",
    "    x = k.layers.Dense(1, activation='sigmoid', name='dense_comb_out')(x)\n",
    "\n",
    "    model = k.models.Model(inputs=[word_input, char_input], outputs=[x])\n",
    "    return model\n",
    "\n",
    "model = create_url_net(\n",
    "    input_length=200,\n",
    "    emb_dim=16,\n",
    "    gru_cells=10,\n",
    ")\n",
    "model.compile(\n",
    "    optimizer=k.optimizers.Adam(learning_rate=1e-4),\n",
    "    loss='binary_crossentropy',\n",
    "    metrics=['binary_accuracy']#, k.metrics.Precision(), k.metrics.Recall()]\n",
    ")\n",
    "#     loss='binary_crossentropy',\n",
    "model.summary()\n",
    "k.utils.plot_model(model, show_shapes=True)"
   ]
  },
  {
   "cell_type": "code",
   "execution_count": 11,
   "id": "98c759c2",
   "metadata": {},
   "outputs": [
    {
     "name": "stdout",
     "output_type": "stream",
     "text": [
      "Epoch 1/30\n",
      "      1/Unknown - 3s 3s/step - loss: 0.6845 - binary_accuracy: 0.7497"
     ]
    },
    {
     "name": "stderr",
     "output_type": "stream",
     "text": [
      "WARNING:absl:Found untraced functions such as gru_cell_layer_call_fn, gru_cell_layer_call_and_return_conditional_losses, gru_cell_1_layer_call_fn, gru_cell_1_layer_call_and_return_conditional_losses while saving (showing 4 of 4). These functions will not be directly callable after loading.\n"
     ]
    },
    {
     "name": "stdout",
     "output_type": "stream",
     "text": [
      "INFO:tensorflow:Assets written to: .\\checkpoints\\assets\n"
     ]
    },
    {
     "name": "stderr",
     "output_type": "stream",
     "text": [
      "INFO:tensorflow:Assets written to: .\\checkpoints\\assets\n"
     ]
    },
    {
     "name": "stdout",
     "output_type": "stream",
     "text": [
      "1/1 [==============================] - 41s 41s/step - loss: 0.6845 - binary_accuracy: 0.7497 - val_loss: 0.6749 - val_binary_accuracy: 0.7957\n",
      "Epoch 2/30\n",
      "1/1 [==============================] - ETA: 0s - loss: 0.6767 - binary_accuracy: 0.8025"
     ]
    },
    {
     "name": "stderr",
     "output_type": "stream",
     "text": [
      "WARNING:absl:Found untraced functions such as gru_cell_layer_call_fn, gru_cell_layer_call_and_return_conditional_losses, gru_cell_1_layer_call_fn, gru_cell_1_layer_call_and_return_conditional_losses while saving (showing 4 of 4). These functions will not be directly callable after loading.\n"
     ]
    },
    {
     "name": "stdout",
     "output_type": "stream",
     "text": [
      "INFO:tensorflow:Assets written to: .\\checkpoints\\assets\n"
     ]
    },
    {
     "name": "stderr",
     "output_type": "stream",
     "text": [
      "INFO:tensorflow:Assets written to: .\\checkpoints\\assets\n"
     ]
    },
    {
     "name": "stdout",
     "output_type": "stream",
     "text": [
      "1/1 [==============================] - 43s 43s/step - loss: 0.6767 - binary_accuracy: 0.8025 - val_loss: 0.6662 - val_binary_accuracy: 0.8118\n",
      "Epoch 3/30\n",
      "1/1 [==============================] - ETA: 0s - loss: 0.6682 - binary_accuracy: 0.8152"
     ]
    },
    {
     "name": "stderr",
     "output_type": "stream",
     "text": [
      "WARNING:absl:Found untraced functions such as gru_cell_layer_call_fn, gru_cell_layer_call_and_return_conditional_losses, gru_cell_1_layer_call_fn, gru_cell_1_layer_call_and_return_conditional_losses while saving (showing 4 of 4). These functions will not be directly callable after loading.\n"
     ]
    },
    {
     "name": "stdout",
     "output_type": "stream",
     "text": [
      "INFO:tensorflow:Assets written to: .\\checkpoints\\assets\n"
     ]
    },
    {
     "name": "stderr",
     "output_type": "stream",
     "text": [
      "INFO:tensorflow:Assets written to: .\\checkpoints\\assets\n"
     ]
    },
    {
     "name": "stdout",
     "output_type": "stream",
     "text": [
      "1/1 [==============================] - 43s 43s/step - loss: 0.6682 - binary_accuracy: 0.8152 - val_loss: 0.6573 - val_binary_accuracy: 0.8225\n",
      "Epoch 4/30\n",
      "1/1 [==============================] - ETA: 0s - loss: 0.6597 - binary_accuracy: 0.8266"
     ]
    },
    {
     "name": "stderr",
     "output_type": "stream",
     "text": [
      "WARNING:absl:Found untraced functions such as gru_cell_layer_call_fn, gru_cell_layer_call_and_return_conditional_losses, gru_cell_1_layer_call_fn, gru_cell_1_layer_call_and_return_conditional_losses while saving (showing 4 of 4). These functions will not be directly callable after loading.\n"
     ]
    },
    {
     "name": "stdout",
     "output_type": "stream",
     "text": [
      "INFO:tensorflow:Assets written to: .\\checkpoints\\assets\n"
     ]
    },
    {
     "name": "stderr",
     "output_type": "stream",
     "text": [
      "INFO:tensorflow:Assets written to: .\\checkpoints\\assets\n"
     ]
    },
    {
     "name": "stdout",
     "output_type": "stream",
     "text": [
      "1/1 [==============================] - 41s 41s/step - loss: 0.6597 - binary_accuracy: 0.8266 - val_loss: 0.6482 - val_binary_accuracy: 0.8243\n",
      "Epoch 5/30\n",
      "1/1 [==============================] - ETA: 0s - loss: 0.6505 - binary_accuracy: 0.8331"
     ]
    },
    {
     "name": "stderr",
     "output_type": "stream",
     "text": [
      "WARNING:absl:Found untraced functions such as gru_cell_layer_call_fn, gru_cell_layer_call_and_return_conditional_losses, gru_cell_1_layer_call_fn, gru_cell_1_layer_call_and_return_conditional_losses while saving (showing 4 of 4). These functions will not be directly callable after loading.\n"
     ]
    },
    {
     "name": "stdout",
     "output_type": "stream",
     "text": [
      "INFO:tensorflow:Assets written to: .\\checkpoints\\assets\n"
     ]
    },
    {
     "name": "stderr",
     "output_type": "stream",
     "text": [
      "INFO:tensorflow:Assets written to: .\\checkpoints\\assets\n"
     ]
    },
    {
     "name": "stdout",
     "output_type": "stream",
     "text": [
      "1/1 [==============================] - 44s 44s/step - loss: 0.6505 - binary_accuracy: 0.8331 - val_loss: 0.6385 - val_binary_accuracy: 0.8287\n",
      "Epoch 6/30\n",
      "1/1 [==============================] - ETA: 0s - loss: 0.6407 - binary_accuracy: 0.8408"
     ]
    },
    {
     "name": "stderr",
     "output_type": "stream",
     "text": [
      "WARNING:absl:Found untraced functions such as gru_cell_layer_call_fn, gru_cell_layer_call_and_return_conditional_losses, gru_cell_1_layer_call_fn, gru_cell_1_layer_call_and_return_conditional_losses while saving (showing 4 of 4). These functions will not be directly callable after loading.\n"
     ]
    },
    {
     "name": "stdout",
     "output_type": "stream",
     "text": [
      "INFO:tensorflow:Assets written to: .\\checkpoints\\assets\n"
     ]
    },
    {
     "name": "stderr",
     "output_type": "stream",
     "text": [
      "INFO:tensorflow:Assets written to: .\\checkpoints\\assets\n"
     ]
    },
    {
     "name": "stdout",
     "output_type": "stream",
     "text": [
      "1/1 [==============================] - 44s 44s/step - loss: 0.6407 - binary_accuracy: 0.8408 - val_loss: 0.6282 - val_binary_accuracy: 0.8350\n",
      "Epoch 7/30\n",
      "1/1 [==============================] - ETA: 0s - loss: 0.6304 - binary_accuracy: 0.8419"
     ]
    },
    {
     "name": "stderr",
     "output_type": "stream",
     "text": [
      "WARNING:absl:Found untraced functions such as gru_cell_layer_call_fn, gru_cell_layer_call_and_return_conditional_losses, gru_cell_1_layer_call_fn, gru_cell_1_layer_call_and_return_conditional_losses while saving (showing 4 of 4). These functions will not be directly callable after loading.\n"
     ]
    },
    {
     "name": "stdout",
     "output_type": "stream",
     "text": [
      "INFO:tensorflow:Assets written to: .\\checkpoints\\assets\n"
     ]
    },
    {
     "name": "stderr",
     "output_type": "stream",
     "text": [
      "INFO:tensorflow:Assets written to: .\\checkpoints\\assets\n"
     ]
    },
    {
     "name": "stdout",
     "output_type": "stream",
     "text": [
      "1/1 [==============================] - 41s 41s/step - loss: 0.6304 - binary_accuracy: 0.8419 - val_loss: 0.6173 - val_binary_accuracy: 0.8350\n",
      "Epoch 8/30\n",
      "1/1 [==============================] - ETA: 0s - loss: 0.6196 - binary_accuracy: 0.8511"
     ]
    },
    {
     "name": "stderr",
     "output_type": "stream",
     "text": [
      "WARNING:absl:Found untraced functions such as gru_cell_layer_call_fn, gru_cell_layer_call_and_return_conditional_losses, gru_cell_1_layer_call_fn, gru_cell_1_layer_call_and_return_conditional_losses while saving (showing 4 of 4). These functions will not be directly callable after loading.\n"
     ]
    },
    {
     "name": "stdout",
     "output_type": "stream",
     "text": [
      "INFO:tensorflow:Assets written to: .\\checkpoints\\assets\n"
     ]
    },
    {
     "name": "stderr",
     "output_type": "stream",
     "text": [
      "INFO:tensorflow:Assets written to: .\\checkpoints\\assets\n"
     ]
    },
    {
     "name": "stdout",
     "output_type": "stream",
     "text": [
      "1/1 [==============================] - 42s 42s/step - loss: 0.6196 - binary_accuracy: 0.8511 - val_loss: 0.6056 - val_binary_accuracy: 0.8368\n",
      "Epoch 9/30\n",
      "1/1 [==============================] - ETA: 0s - loss: 0.6078 - binary_accuracy: 0.8580"
     ]
    },
    {
     "name": "stderr",
     "output_type": "stream",
     "text": [
      "WARNING:absl:Found untraced functions such as gru_cell_layer_call_fn, gru_cell_layer_call_and_return_conditional_losses, gru_cell_1_layer_call_fn, gru_cell_1_layer_call_and_return_conditional_losses while saving (showing 4 of 4). These functions will not be directly callable after loading.\n"
     ]
    },
    {
     "name": "stdout",
     "output_type": "stream",
     "text": [
      "INFO:tensorflow:Assets written to: .\\checkpoints\\assets\n"
     ]
    },
    {
     "name": "stderr",
     "output_type": "stream",
     "text": [
      "INFO:tensorflow:Assets written to: .\\checkpoints\\assets\n"
     ]
    },
    {
     "name": "stdout",
     "output_type": "stream",
     "text": [
      "1/1 [==============================] - 43s 43s/step - loss: 0.6078 - binary_accuracy: 0.8580 - val_loss: 0.5931 - val_binary_accuracy: 0.8475\n",
      "Epoch 10/30\n",
      "1/1 [==============================] - ETA: 0s - loss: 0.5950 - binary_accuracy: 0.8626"
     ]
    },
    {
     "name": "stderr",
     "output_type": "stream",
     "text": [
      "WARNING:absl:Found untraced functions such as gru_cell_layer_call_fn, gru_cell_layer_call_and_return_conditional_losses, gru_cell_1_layer_call_fn, gru_cell_1_layer_call_and_return_conditional_losses while saving (showing 4 of 4). These functions will not be directly callable after loading.\n"
     ]
    },
    {
     "name": "stdout",
     "output_type": "stream",
     "text": [
      "INFO:tensorflow:Assets written to: .\\checkpoints\\assets\n"
     ]
    },
    {
     "name": "stderr",
     "output_type": "stream",
     "text": [
      "INFO:tensorflow:Assets written to: .\\checkpoints\\assets\n"
     ]
    },
    {
     "name": "stdout",
     "output_type": "stream",
     "text": [
      "1/1 [==============================] - 42s 42s/step - loss: 0.5950 - binary_accuracy: 0.8626 - val_loss: 0.5799 - val_binary_accuracy: 0.8564\n",
      "Epoch 11/30\n",
      "1/1 [==============================] - ETA: 0s - loss: 0.5824 - binary_accuracy: 0.8676"
     ]
    },
    {
     "name": "stderr",
     "output_type": "stream",
     "text": [
      "WARNING:absl:Found untraced functions such as gru_cell_layer_call_fn, gru_cell_layer_call_and_return_conditional_losses, gru_cell_1_layer_call_fn, gru_cell_1_layer_call_and_return_conditional_losses while saving (showing 4 of 4). These functions will not be directly callable after loading.\n"
     ]
    },
    {
     "name": "stdout",
     "output_type": "stream",
     "text": [
      "INFO:tensorflow:Assets written to: .\\checkpoints\\assets\n"
     ]
    },
    {
     "name": "stderr",
     "output_type": "stream",
     "text": [
      "INFO:tensorflow:Assets written to: .\\checkpoints\\assets\n"
     ]
    },
    {
     "name": "stdout",
     "output_type": "stream",
     "text": [
      "1/1 [==============================] - 47s 47s/step - loss: 0.5824 - binary_accuracy: 0.8676 - val_loss: 0.5659 - val_binary_accuracy: 0.8662\n",
      "Epoch 12/30\n",
      "1/1 [==============================] - ETA: 0s - loss: 0.5684 - binary_accuracy: 0.8791"
     ]
    },
    {
     "name": "stderr",
     "output_type": "stream",
     "text": [
      "WARNING:absl:Found untraced functions such as gru_cell_layer_call_fn, gru_cell_layer_call_and_return_conditional_losses, gru_cell_1_layer_call_fn, gru_cell_1_layer_call_and_return_conditional_losses while saving (showing 4 of 4). These functions will not be directly callable after loading.\n"
     ]
    },
    {
     "name": "stdout",
     "output_type": "stream",
     "text": [
      "INFO:tensorflow:Assets written to: .\\checkpoints\\assets\n"
     ]
    },
    {
     "name": "stderr",
     "output_type": "stream",
     "text": [
      "INFO:tensorflow:Assets written to: .\\checkpoints\\assets\n"
     ]
    },
    {
     "name": "stdout",
     "output_type": "stream",
     "text": [
      "1/1 [==============================] - 46s 46s/step - loss: 0.5684 - binary_accuracy: 0.8791 - val_loss: 0.5513 - val_binary_accuracy: 0.8671\n",
      "Epoch 13/30\n",
      "1/1 [==============================] - ETA: 0s - loss: 0.5537 - binary_accuracy: 0.8848"
     ]
    },
    {
     "name": "stderr",
     "output_type": "stream",
     "text": [
      "WARNING:absl:Found untraced functions such as gru_cell_layer_call_fn, gru_cell_layer_call_and_return_conditional_losses, gru_cell_1_layer_call_fn, gru_cell_1_layer_call_and_return_conditional_losses while saving (showing 4 of 4). These functions will not be directly callable after loading.\n"
     ]
    },
    {
     "name": "stdout",
     "output_type": "stream",
     "text": [
      "INFO:tensorflow:Assets written to: .\\checkpoints\\assets\n"
     ]
    },
    {
     "name": "stderr",
     "output_type": "stream",
     "text": [
      "INFO:tensorflow:Assets written to: .\\checkpoints\\assets\n"
     ]
    },
    {
     "name": "stdout",
     "output_type": "stream",
     "text": [
      "1/1 [==============================] - 40s 40s/step - loss: 0.5537 - binary_accuracy: 0.8848 - val_loss: 0.5360 - val_binary_accuracy: 0.8733\n",
      "Epoch 14/30\n",
      "1/1 [==============================] - ETA: 0s - loss: 0.5385 - binary_accuracy: 0.8909"
     ]
    },
    {
     "name": "stderr",
     "output_type": "stream",
     "text": [
      "WARNING:absl:Found untraced functions such as gru_cell_layer_call_fn, gru_cell_layer_call_and_return_conditional_losses, gru_cell_1_layer_call_fn, gru_cell_1_layer_call_and_return_conditional_losses while saving (showing 4 of 4). These functions will not be directly callable after loading.\n"
     ]
    },
    {
     "name": "stdout",
     "output_type": "stream",
     "text": [
      "INFO:tensorflow:Assets written to: .\\checkpoints\\assets\n"
     ]
    },
    {
     "name": "stderr",
     "output_type": "stream",
     "text": [
      "INFO:tensorflow:Assets written to: .\\checkpoints\\assets\n"
     ]
    },
    {
     "name": "stdout",
     "output_type": "stream",
     "text": [
      "1/1 [==============================] - 41s 41s/step - loss: 0.5385 - binary_accuracy: 0.8909 - val_loss: 0.5200 - val_binary_accuracy: 0.8787\n",
      "Epoch 15/30\n",
      "1/1 [==============================] - ETA: 0s - loss: 0.5227 - binary_accuracy: 0.8925"
     ]
    },
    {
     "name": "stderr",
     "output_type": "stream",
     "text": [
      "WARNING:absl:Found untraced functions such as gru_cell_layer_call_fn, gru_cell_layer_call_and_return_conditional_losses, gru_cell_1_layer_call_fn, gru_cell_1_layer_call_and_return_conditional_losses while saving (showing 4 of 4). These functions will not be directly callable after loading.\n"
     ]
    },
    {
     "name": "stdout",
     "output_type": "stream",
     "text": [
      "INFO:tensorflow:Assets written to: .\\checkpoints\\assets\n"
     ]
    },
    {
     "name": "stderr",
     "output_type": "stream",
     "text": [
      "INFO:tensorflow:Assets written to: .\\checkpoints\\assets\n"
     ]
    },
    {
     "name": "stdout",
     "output_type": "stream",
     "text": [
      "1/1 [==============================] - 45s 45s/step - loss: 0.5227 - binary_accuracy: 0.8925 - val_loss: 0.5034 - val_binary_accuracy: 0.8805\n",
      "Epoch 16/30\n",
      "1/1 [==============================] - ETA: 0s - loss: 0.5064 - binary_accuracy: 0.8990"
     ]
    },
    {
     "name": "stderr",
     "output_type": "stream",
     "text": [
      "WARNING:absl:Found untraced functions such as gru_cell_layer_call_fn, gru_cell_layer_call_and_return_conditional_losses, gru_cell_1_layer_call_fn, gru_cell_1_layer_call_and_return_conditional_losses while saving (showing 4 of 4). These functions will not be directly callable after loading.\n"
     ]
    },
    {
     "name": "stdout",
     "output_type": "stream",
     "text": [
      "INFO:tensorflow:Assets written to: .\\checkpoints\\assets\n"
     ]
    },
    {
     "name": "stderr",
     "output_type": "stream",
     "text": [
      "INFO:tensorflow:Assets written to: .\\checkpoints\\assets\n"
     ]
    },
    {
     "name": "stdout",
     "output_type": "stream",
     "text": [
      "1/1 [==============================] - 42s 42s/step - loss: 0.5064 - binary_accuracy: 0.8990 - val_loss: 0.4863 - val_binary_accuracy: 0.8849\n",
      "Epoch 17/30\n",
      "1/1 [==============================] - ETA: 0s - loss: 0.4897 - binary_accuracy: 0.8974"
     ]
    },
    {
     "name": "stderr",
     "output_type": "stream",
     "text": [
      "WARNING:absl:Found untraced functions such as gru_cell_layer_call_fn, gru_cell_layer_call_and_return_conditional_losses, gru_cell_1_layer_call_fn, gru_cell_1_layer_call_and_return_conditional_losses while saving (showing 4 of 4). These functions will not be directly callable after loading.\n"
     ]
    },
    {
     "name": "stdout",
     "output_type": "stream",
     "text": [
      "INFO:tensorflow:Assets written to: .\\checkpoints\\assets\n"
     ]
    },
    {
     "name": "stderr",
     "output_type": "stream",
     "text": [
      "INFO:tensorflow:Assets written to: .\\checkpoints\\assets\n"
     ]
    },
    {
     "name": "stdout",
     "output_type": "stream",
     "text": [
      "1/1 [==============================] - 41s 41s/step - loss: 0.4897 - binary_accuracy: 0.8974 - val_loss: 0.4690 - val_binary_accuracy: 0.8894\n",
      "Epoch 18/30\n",
      "1/1 [==============================] - ETA: 0s - loss: 0.4727 - binary_accuracy: 0.8990"
     ]
    },
    {
     "name": "stderr",
     "output_type": "stream",
     "text": [
      "WARNING:absl:Found untraced functions such as gru_cell_layer_call_fn, gru_cell_layer_call_and_return_conditional_losses, gru_cell_1_layer_call_fn, gru_cell_1_layer_call_and_return_conditional_losses while saving (showing 4 of 4). These functions will not be directly callable after loading.\n"
     ]
    },
    {
     "name": "stdout",
     "output_type": "stream",
     "text": [
      "INFO:tensorflow:Assets written to: .\\checkpoints\\assets\n"
     ]
    },
    {
     "name": "stderr",
     "output_type": "stream",
     "text": [
      "INFO:tensorflow:Assets written to: .\\checkpoints\\assets\n"
     ]
    },
    {
     "name": "stdout",
     "output_type": "stream",
     "text": [
      "1/1 [==============================] - 48s 48s/step - loss: 0.4727 - binary_accuracy: 0.8990 - val_loss: 0.4515 - val_binary_accuracy: 0.8930\n",
      "Epoch 19/30\n",
      "1/1 [==============================] - ETA: 0s - loss: 0.4552 - binary_accuracy: 0.9009"
     ]
    },
    {
     "name": "stderr",
     "output_type": "stream",
     "text": [
      "WARNING:absl:Found untraced functions such as gru_cell_layer_call_fn, gru_cell_layer_call_and_return_conditional_losses, gru_cell_1_layer_call_fn, gru_cell_1_layer_call_and_return_conditional_losses while saving (showing 4 of 4). These functions will not be directly callable after loading.\n"
     ]
    },
    {
     "name": "stdout",
     "output_type": "stream",
     "text": [
      "INFO:tensorflow:Assets written to: .\\checkpoints\\assets\n"
     ]
    },
    {
     "name": "stderr",
     "output_type": "stream",
     "text": [
      "INFO:tensorflow:Assets written to: .\\checkpoints\\assets\n"
     ]
    },
    {
     "name": "stdout",
     "output_type": "stream",
     "text": [
      "1/1 [==============================] - 46s 46s/step - loss: 0.4552 - binary_accuracy: 0.9009 - val_loss: 0.4339 - val_binary_accuracy: 0.8992\n",
      "Epoch 20/30\n",
      "1/1 [==============================] - ETA: 0s - loss: 0.4382 - binary_accuracy: 0.9024"
     ]
    },
    {
     "name": "stderr",
     "output_type": "stream",
     "text": [
      "WARNING:absl:Found untraced functions such as gru_cell_layer_call_fn, gru_cell_layer_call_and_return_conditional_losses, gru_cell_1_layer_call_fn, gru_cell_1_layer_call_and_return_conditional_losses while saving (showing 4 of 4). These functions will not be directly callable after loading.\n"
     ]
    },
    {
     "name": "stdout",
     "output_type": "stream",
     "text": [
      "INFO:tensorflow:Assets written to: .\\checkpoints\\assets\n"
     ]
    },
    {
     "name": "stderr",
     "output_type": "stream",
     "text": [
      "INFO:tensorflow:Assets written to: .\\checkpoints\\assets\n"
     ]
    },
    {
     "name": "stdout",
     "output_type": "stream",
     "text": [
      "1/1 [==============================] - 42s 42s/step - loss: 0.4382 - binary_accuracy: 0.9024 - val_loss: 0.4163 - val_binary_accuracy: 0.9019\n",
      "Epoch 21/30\n",
      "1/1 [==============================] - ETA: 0s - loss: 0.4204 - binary_accuracy: 0.9051"
     ]
    },
    {
     "name": "stderr",
     "output_type": "stream",
     "text": [
      "WARNING:absl:Found untraced functions such as gru_cell_layer_call_fn, gru_cell_layer_call_and_return_conditional_losses, gru_cell_1_layer_call_fn, gru_cell_1_layer_call_and_return_conditional_losses while saving (showing 4 of 4). These functions will not be directly callable after loading.\n"
     ]
    },
    {
     "name": "stdout",
     "output_type": "stream",
     "text": [
      "INFO:tensorflow:Assets written to: .\\checkpoints\\assets\n"
     ]
    },
    {
     "name": "stderr",
     "output_type": "stream",
     "text": [
      "INFO:tensorflow:Assets written to: .\\checkpoints\\assets\n"
     ]
    },
    {
     "name": "stdout",
     "output_type": "stream",
     "text": [
      "1/1 [==============================] - 42s 42s/step - loss: 0.4204 - binary_accuracy: 0.9051 - val_loss: 0.3988 - val_binary_accuracy: 0.9037\n",
      "Epoch 22/30\n",
      "1/1 [==============================] - ETA: 0s - loss: 0.4032 - binary_accuracy: 0.9055"
     ]
    },
    {
     "name": "stderr",
     "output_type": "stream",
     "text": [
      "WARNING:absl:Found untraced functions such as gru_cell_layer_call_fn, gru_cell_layer_call_and_return_conditional_losses, gru_cell_1_layer_call_fn, gru_cell_1_layer_call_and_return_conditional_losses while saving (showing 4 of 4). These functions will not be directly callable after loading.\n"
     ]
    },
    {
     "name": "stdout",
     "output_type": "stream",
     "text": [
      "INFO:tensorflow:Assets written to: .\\checkpoints\\assets\n"
     ]
    },
    {
     "name": "stderr",
     "output_type": "stream",
     "text": [
      "INFO:tensorflow:Assets written to: .\\checkpoints\\assets\n"
     ]
    },
    {
     "name": "stdout",
     "output_type": "stream",
     "text": [
      "1/1 [==============================] - 51s 51s/step - loss: 0.4032 - binary_accuracy: 0.9055 - val_loss: 0.3815 - val_binary_accuracy: 0.9072\n",
      "Epoch 23/30\n",
      "1/1 [==============================] - ETA: 0s - loss: 0.3860 - binary_accuracy: 0.9070"
     ]
    },
    {
     "name": "stderr",
     "output_type": "stream",
     "text": [
      "WARNING:absl:Found untraced functions such as gru_cell_layer_call_fn, gru_cell_layer_call_and_return_conditional_losses, gru_cell_1_layer_call_fn, gru_cell_1_layer_call_and_return_conditional_losses while saving (showing 4 of 4). These functions will not be directly callable after loading.\n"
     ]
    },
    {
     "name": "stdout",
     "output_type": "stream",
     "text": [
      "INFO:tensorflow:Assets written to: .\\checkpoints\\assets\n"
     ]
    },
    {
     "name": "stderr",
     "output_type": "stream",
     "text": [
      "INFO:tensorflow:Assets written to: .\\checkpoints\\assets\n"
     ]
    },
    {
     "name": "stdout",
     "output_type": "stream",
     "text": [
      "1/1 [==============================] - 44s 44s/step - loss: 0.3860 - binary_accuracy: 0.9070 - val_loss: 0.3645 - val_binary_accuracy: 0.9117\n",
      "Epoch 24/30\n",
      "1/1 [==============================] - ETA: 0s - loss: 0.3695 - binary_accuracy: 0.9078"
     ]
    },
    {
     "name": "stderr",
     "output_type": "stream",
     "text": [
      "WARNING:absl:Found untraced functions such as gru_cell_layer_call_fn, gru_cell_layer_call_and_return_conditional_losses, gru_cell_1_layer_call_fn, gru_cell_1_layer_call_and_return_conditional_losses while saving (showing 4 of 4). These functions will not be directly callable after loading.\n"
     ]
    },
    {
     "name": "stdout",
     "output_type": "stream",
     "text": [
      "INFO:tensorflow:Assets written to: .\\checkpoints\\assets\n"
     ]
    },
    {
     "name": "stderr",
     "output_type": "stream",
     "text": [
      "INFO:tensorflow:Assets written to: .\\checkpoints\\assets\n"
     ]
    },
    {
     "name": "stdout",
     "output_type": "stream",
     "text": [
      "1/1 [==============================] - 45s 45s/step - loss: 0.3695 - binary_accuracy: 0.9078 - val_loss: 0.3479 - val_binary_accuracy: 0.9117\n",
      "Epoch 25/30\n",
      "1/1 [==============================] - ETA: 0s - loss: 0.3530 - binary_accuracy: 0.9085"
     ]
    },
    {
     "name": "stderr",
     "output_type": "stream",
     "text": [
      "WARNING:absl:Found untraced functions such as gru_cell_layer_call_fn, gru_cell_layer_call_and_return_conditional_losses, gru_cell_1_layer_call_fn, gru_cell_1_layer_call_and_return_conditional_losses while saving (showing 4 of 4). These functions will not be directly callable after loading.\n"
     ]
    },
    {
     "name": "stdout",
     "output_type": "stream",
     "text": [
      "INFO:tensorflow:Assets written to: .\\checkpoints\\assets\n"
     ]
    },
    {
     "name": "stderr",
     "output_type": "stream",
     "text": [
      "INFO:tensorflow:Assets written to: .\\checkpoints\\assets\n"
     ]
    },
    {
     "name": "stdout",
     "output_type": "stream",
     "text": [
      "1/1 [==============================] - 45s 45s/step - loss: 0.3530 - binary_accuracy: 0.9085 - val_loss: 0.3318 - val_binary_accuracy: 0.9117\n",
      "Epoch 26/30\n",
      "1/1 [==============================] - ETA: 0s - loss: 0.3369 - binary_accuracy: 0.9097"
     ]
    },
    {
     "name": "stderr",
     "output_type": "stream",
     "text": [
      "WARNING:absl:Found untraced functions such as gru_cell_layer_call_fn, gru_cell_layer_call_and_return_conditional_losses, gru_cell_1_layer_call_fn, gru_cell_1_layer_call_and_return_conditional_losses while saving (showing 4 of 4). These functions will not be directly callable after loading.\n"
     ]
    },
    {
     "name": "stdout",
     "output_type": "stream",
     "text": [
      "INFO:tensorflow:Assets written to: .\\checkpoints\\assets\n"
     ]
    },
    {
     "name": "stderr",
     "output_type": "stream",
     "text": [
      "INFO:tensorflow:Assets written to: .\\checkpoints\\assets\n"
     ]
    },
    {
     "name": "stdout",
     "output_type": "stream",
     "text": [
      "1/1 [==============================] - 44s 44s/step - loss: 0.3369 - binary_accuracy: 0.9097 - val_loss: 0.3162 - val_binary_accuracy: 0.9135\n",
      "Epoch 27/30\n",
      "1/1 [==============================] - ETA: 0s - loss: 0.3213 - binary_accuracy: 0.9124"
     ]
    },
    {
     "name": "stderr",
     "output_type": "stream",
     "text": [
      "WARNING:absl:Found untraced functions such as gru_cell_layer_call_fn, gru_cell_layer_call_and_return_conditional_losses, gru_cell_1_layer_call_fn, gru_cell_1_layer_call_and_return_conditional_losses while saving (showing 4 of 4). These functions will not be directly callable after loading.\n"
     ]
    },
    {
     "name": "stdout",
     "output_type": "stream",
     "text": [
      "INFO:tensorflow:Assets written to: .\\checkpoints\\assets\n"
     ]
    },
    {
     "name": "stderr",
     "output_type": "stream",
     "text": [
      "INFO:tensorflow:Assets written to: .\\checkpoints\\assets\n"
     ]
    },
    {
     "name": "stdout",
     "output_type": "stream",
     "text": [
      "1/1 [==============================] - 64s 64s/step - loss: 0.3213 - binary_accuracy: 0.9124 - val_loss: 0.3011 - val_binary_accuracy: 0.9144\n",
      "Epoch 28/30\n",
      "1/1 [==============================] - ETA: 0s - loss: 0.3063 - binary_accuracy: 0.9124"
     ]
    },
    {
     "name": "stderr",
     "output_type": "stream",
     "text": [
      "WARNING:absl:Found untraced functions such as gru_cell_layer_call_fn, gru_cell_layer_call_and_return_conditional_losses, gru_cell_1_layer_call_fn, gru_cell_1_layer_call_and_return_conditional_losses while saving (showing 4 of 4). These functions will not be directly callable after loading.\n"
     ]
    },
    {
     "name": "stdout",
     "output_type": "stream",
     "text": [
      "INFO:tensorflow:Assets written to: .\\checkpoints\\assets\n"
     ]
    },
    {
     "name": "stderr",
     "output_type": "stream",
     "text": [
      "INFO:tensorflow:Assets written to: .\\checkpoints\\assets\n"
     ]
    },
    {
     "name": "stdout",
     "output_type": "stream",
     "text": [
      "1/1 [==============================] - 45s 45s/step - loss: 0.3063 - binary_accuracy: 0.9124 - val_loss: 0.2866 - val_binary_accuracy: 0.9170\n",
      "Epoch 29/30\n",
      "1/1 [==============================] - ETA: 0s - loss: 0.2922 - binary_accuracy: 0.9131"
     ]
    },
    {
     "name": "stderr",
     "output_type": "stream",
     "text": [
      "WARNING:absl:Found untraced functions such as gru_cell_layer_call_fn, gru_cell_layer_call_and_return_conditional_losses, gru_cell_1_layer_call_fn, gru_cell_1_layer_call_and_return_conditional_losses while saving (showing 4 of 4). These functions will not be directly callable after loading.\n"
     ]
    },
    {
     "name": "stdout",
     "output_type": "stream",
     "text": [
      "INFO:tensorflow:Assets written to: .\\checkpoints\\assets\n"
     ]
    },
    {
     "name": "stderr",
     "output_type": "stream",
     "text": [
      "INFO:tensorflow:Assets written to: .\\checkpoints\\assets\n"
     ]
    },
    {
     "name": "stdout",
     "output_type": "stream",
     "text": [
      "1/1 [==============================] - 46s 46s/step - loss: 0.2922 - binary_accuracy: 0.9131 - val_loss: 0.2727 - val_binary_accuracy: 0.9188\n",
      "Epoch 30/30\n",
      "1/1 [==============================] - ETA: 0s - loss: 0.2787 - binary_accuracy: 0.9143"
     ]
    },
    {
     "name": "stderr",
     "output_type": "stream",
     "text": [
      "WARNING:absl:Found untraced functions such as gru_cell_layer_call_fn, gru_cell_layer_call_and_return_conditional_losses, gru_cell_1_layer_call_fn, gru_cell_1_layer_call_and_return_conditional_losses while saving (showing 4 of 4). These functions will not be directly callable after loading.\n"
     ]
    },
    {
     "name": "stdout",
     "output_type": "stream",
     "text": [
      "INFO:tensorflow:Assets written to: .\\checkpoints\\assets\n"
     ]
    },
    {
     "name": "stderr",
     "output_type": "stream",
     "text": [
      "INFO:tensorflow:Assets written to: .\\checkpoints\\assets\n"
     ]
    },
    {
     "name": "stdout",
     "output_type": "stream",
     "text": [
      "\b\b\b\b\b\b\b\b\b\b\b\b\b\b\b\b\b\b\b\b\b\b\b\b\b\b\b\b\b\b\b\b\b\b\b\b\b\b\b\b\b\b\b\b\b\b\b\b\b\b\b\b\b\b\b\b\b\b\b\b\b\b\b\b\b\b\b\b\b\b\b\b\b\b\b\b\b\b\b\b\b\b\b\b\b\b\b\r",
      "1/1 [==============================] - 46s 46s/step - loss: 0.2787 - binary_accuracy: 0.9143 - val_loss: 0.2594 - val_binary_accuracy: 0.9197\n"
     ]
    },
    {
     "data": {
      "text/plain": [
       "<keras.callbacks.History at 0x25a8a898f10>"
      ]
     },
     "execution_count": 11,
     "metadata": {},
     "output_type": "execute_result"
    }
   ],
   "source": [
    "bs=256*16\n",
    "\n",
    "model.fit(\n",
    "    dataset_train.batch(bs),\n",
    "    epochs=30,     #10\n",
    "    validation_data=dataset_validation.batch(bs),\n",
    "    callbacks=[\n",
    "        k.callbacks.EarlyStopping(monitor='val_loss', patience=3),\n",
    "        k.callbacks.ModelCheckpoint('./checkpoints', verbose=0)\n",
    "    ],\n",
    ")"
   ]
  },
  {
   "cell_type": "code",
   "execution_count": 13,
   "id": "36bed988",
   "metadata": {
    "scrolled": true
   },
   "outputs": [
    {
     "name": "stderr",
     "output_type": "stream",
     "text": [
      "WARNING:absl:Found untraced functions such as gru_cell_layer_call_fn, gru_cell_layer_call_and_return_conditional_losses, gru_cell_1_layer_call_fn, gru_cell_1_layer_call_and_return_conditional_losses while saving (showing 4 of 4). These functions will not be directly callable after loading.\n"
     ]
    },
    {
     "name": "stdout",
     "output_type": "stream",
     "text": [
      "INFO:tensorflow:Assets written to: 30epoche\\assets\n"
     ]
    },
    {
     "name": "stderr",
     "output_type": "stream",
     "text": [
      "INFO:tensorflow:Assets written to: 30epoche\\assets\n"
     ]
    }
   ],
   "source": [
    "model.save('30epoche')#recurrent"
   ]
  },
  {
   "cell_type": "code",
   "execution_count": 14,
   "id": "d64ab254",
   "metadata": {},
   "outputs": [],
   "source": [
    "bs=256*16\n",
    "model = k.models.load_model('30epoche')#recurrent"
   ]
  },
  {
   "cell_type": "code",
   "execution_count": 15,
   "id": "8ab2aa72",
   "metadata": {},
   "outputs": [
    {
     "name": "stdout",
     "output_type": "stream",
     "text": [
      "1/1 [==============================] - 3s 3s/step\n"
     ]
    }
   ],
   "source": [
    "X_validation, y_validation = np.array([*dataset_validation.as_numpy_iterator()]).T\n",
    "# X_validation = np.array([item['word'] for item in X_validation])\n",
    "# X_validation = np.array([item['char'] for item in X_validation])\n",
    "X_validation = np.array([(item['word'],item['char']) for item in X_validation])\n",
    "X_validation = tf.data.Dataset.from_tensor_slices(((X_validation[:,0,:], X_validation[:,1,:]), )).batch(bs)\n",
    "y_validation = y_validation.astype('int32')\n",
    "\n",
    "y_hat = model.predict(X_validation).ravel()"
   ]
  },
  {
   "cell_type": "code",
   "execution_count": 16,
   "id": "92ddc793",
   "metadata": {},
   "outputs": [],
   "source": [
    "fpr, tpr, thresholds = roc_curve(y_validation, y_hat)\n",
    "auc_ = auc(fpr, tpr)\n",
    "best_threshold = thresholds[np.argmax(-fpr + tpr)]"
   ]
  },
  {
   "cell_type": "code",
   "execution_count": 17,
   "id": "d4fa5800",
   "metadata": {},
   "outputs": [
    {
     "data": {
      "image/png": "[encoded data removed]",
      "text/plain": [
       "<Figure size 640x480 with 1 Axes>"
      ]
     },
     "metadata": {},
     "output_type": "display_data"
    }
   ],
   "source": [
    "model_name = \"30epoche\"\n",
    "model_full_name = \"RNN model with Word and Character Level Embedding\"\n",
    "\n",
    "plt.figure(1)\n",
    "plt.plot([0, 1], [0, 1], 'k--')\n",
    "plt.plot(fpr, tpr, label=f'{model_name} (area = {auc_:.4f})')\n",
    "plt.xlabel('False positive rate')\n",
    "plt.ylabel('True positive rate')\n",
    "plt.title(f'ROC curve for {model_full_name}')\n",
    "plt.legend(loc='best')\n",
    "plt.savefig(f'./{model_name.replace(\" \", \"_\").lower()}_roc.pdf')\n",
    "plt.show()"
   ]
  },
  {
   "cell_type": "code",
   "execution_count": 18,
   "id": "de5e02c3",
   "metadata": {},
   "outputs": [
    {
     "data": {
      "text/plain": [
       "array([0., 1.], dtype=float32)"
      ]
     },
     "execution_count": 18,
     "metadata": {},
     "output_type": "execute_result"
    }
   ],
   "source": [
    "y_hat_01 = np.zeros_like(y_hat)\n",
    "y_hat_01[y_hat >= best_threshold] = 1\n",
    "\n",
    "np.unique(y_hat_01)"
   ]
  },
  {
   "cell_type": "code",
   "execution_count": 19,
   "id": "fff1bd80",
   "metadata": {},
   "outputs": [
    {
     "data": {
      "text/plain": [
       "((0.8846153846153846, 0.9857142857142858, 0.9324324324324325, None),\n",
       " 0.9857142857142858,\n",
       " 0.12834224598930483,\n",
       " 0.928635147190009)"
      ]
     },
     "execution_count": 19,
     "metadata": {},
     "output_type": "execute_result"
    }
   ],
   "source": [
    "precision_recall_fscore_support(y_validation, y_hat_01, beta=1, average='binary'), \\\n",
    "    tpr[np.argmax(-fpr + tpr)], fpr[np.argmax(-fpr + tpr)], \\\n",
    "    accuracy_score(y_validation, y_hat_01)"
   ]
  },
  {
   "cell_type": "code",
   "execution_count": 20,
   "id": "89d2e095",
   "metadata": {},
   "outputs": [
    {
     "data": {
      "text/plain": [
       "<matplotlib.legend.Legend at 0x25a74578a00>"
      ]
     },
     "execution_count": 20,
     "metadata": {},
     "output_type": "execute_result"
    },
    {
     "data": {
      "image/png": "[encoded data removed]",
      "text/plain": [
       "<Figure size 640x480 with 1 Axes>"
      ]
     },
     "metadata": {},
     "output_type": "display_data"
    }
   ],
   "source": [
    "plt.plot((-fpr + tpr) / 2, label='Sum')\n",
    "plt.plot(tpr, label='TPR')\n",
    "plt.plot(1-fpr, label='FPR')\n",
    "plt.legend()"
   ]
  }
 ],
 "metadata": {
  "kernelspec": {
   "display_name": "Python 3 (ipykernel)",
   "language": "python",
   "name": "python3"
  },
  "language_info": {
   "codemirror_mode": {
    "name": "ipython",
    "version": 3
   },
   "file_extension": ".py",
   "mimetype": "text/x-python",
   "name": "python",
   "nbconvert_exporter": "python",
   "pygments_lexer": "ipython3",
   "version": "3.9.13"
  }
 },
 "nbformat": 4,
 "nbformat_minor": 5
}
